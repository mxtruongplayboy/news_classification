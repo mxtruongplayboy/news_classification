{
 "cells": [
  {
   "cell_type": "code",
   "execution_count": 1,
   "id": "a1a1ccd7",
   "metadata": {},
   "outputs": [
    {
     "ename": "ModuleNotFoundError",
     "evalue": "No module named 'sentence_transformers'",
     "output_type": "error",
     "traceback": [
      "\u001b[1;31m---------------------------------------------------------------------------\u001b[0m",
      "\u001b[1;31mModuleNotFoundError\u001b[0m                       Traceback (most recent call last)",
      "Cell \u001b[1;32mIn[1], line 2\u001b[0m\n\u001b[0;32m      1\u001b[0m \u001b[38;5;28;01mimport\u001b[39;00m\u001b[38;5;250m \u001b[39m\u001b[38;5;21;01mpandas\u001b[39;00m\u001b[38;5;250m \u001b[39m\u001b[38;5;28;01mas\u001b[39;00m\u001b[38;5;250m \u001b[39m\u001b[38;5;21;01mpd\u001b[39;00m\n\u001b[1;32m----> 2\u001b[0m \u001b[38;5;28;01mfrom\u001b[39;00m\u001b[38;5;250m \u001b[39m\u001b[38;5;21;01msentence_transformers\u001b[39;00m\u001b[38;5;250m \u001b[39m\u001b[38;5;28;01mimport\u001b[39;00m SentenceTransformer\n\u001b[0;32m      3\u001b[0m \u001b[38;5;28;01mfrom\u001b[39;00m\u001b[38;5;250m \u001b[39m\u001b[38;5;21;01msklearn\u001b[39;00m\u001b[38;5;21;01m.\u001b[39;00m\u001b[38;5;21;01mmetrics\u001b[39;00m\u001b[38;5;21;01m.\u001b[39;00m\u001b[38;5;21;01mpairwise\u001b[39;00m\u001b[38;5;250m \u001b[39m\u001b[38;5;28;01mimport\u001b[39;00m cosine_similarity\n",
      "\u001b[1;31mModuleNotFoundError\u001b[0m: No module named 'sentence_transformers'"
     ]
    }
   ],
   "source": [
    "import pandas as pd\n",
    "from sentence_transformers import SentenceTransformer\n",
    "from sklearn.metrics.pairwise import cosine_similarity"
   ]
  },
  {
   "cell_type": "code",
   "execution_count": null,
   "id": "c135dc73",
   "metadata": {},
   "outputs": [],
   "source": [
    "# Load model phù hợp với tiếng Việt\n",
    "model = SentenceTransformer('VoVanPhuc/sup-SimCSE-VietNamese-phobert-base')"
   ]
  },
  {
   "cell_type": "code",
   "execution_count": null,
   "id": "ce56f0e3",
   "metadata": {},
   "outputs": [],
   "source": [
    "# Đọc dữ liệu từ file CSV\n",
    "df = pd.read_csv(r'E:\\LEARN_5\\XuLyNgonNguTuNhien\\project\\data\\final_data.csv')  # Thay bằng đường dẫn file CSV của bạn"
   ]
  },
  {
   "cell_type": "code",
   "execution_count": null,
   "id": "61617921",
   "metadata": {},
   "outputs": [],
   "source": [
    "# Tùy chọn: Chọn 1 topic để so sánh\n",
    "target_topic = 'Các bệnh'\n",
    "list_other_topics = ['Tin tức sức khoẻ', 'Sống khoẻ']"
   ]
  },
  {
   "cell_type": "code",
   "execution_count": null,
   "id": "d6e9e6cd",
   "metadata": {},
   "outputs": [],
   "source": [
    "# Gom các bài báo theo từng Topic\n",
    "grouped = df.groupby('Topic')['text'].apply(lambda texts: ' '.join(texts)).to_dict()\n",
    "\n",
    "# Kiểm tra tồn tại\n",
    "if target_topic not in grouped:\n",
    "    raise ValueError(f'Topic \"{target_topic}\" không có trong dữ liệu.')\n",
    "\n",
    "available_topics = [t for t in list_other_topics if t in grouped]\n",
    "\n",
    "# Lấy văn bản\n",
    "corpus = [grouped[target_topic]] + [grouped[t] for t in available_topics]"
   ]
  },
  {
   "cell_type": "code",
   "execution_count": null,
   "id": "a8c69de7",
   "metadata": {},
   "outputs": [],
   "source": [
    "# Encode sentence embeddings\n",
    "embeddings = model.encode(corpus, convert_to_tensor=False)"
   ]
  },
  {
   "cell_type": "code",
   "execution_count": null,
   "id": "afb9afb6",
   "metadata": {},
   "outputs": [],
   "source": [
    "# Tính cosine similarity giữa target và các topic còn lại\n",
    "similarities = cosine_similarity([embeddings[0]], embeddings[1:])[0]"
   ]
  },
  {
   "cell_type": "code",
   "execution_count": null,
   "id": "81087acb",
   "metadata": {},
   "outputs": [
    {
     "name": "stdout",
     "output_type": "stream",
     "text": [
      "     Compared Topic  Similarity with \"Các bệnh\"\n",
      "0  Tin tức sức khoẻ                    0.685149\n",
      "1         Sống khoẻ                    0.477327\n"
     ]
    }
   ],
   "source": [
    "# Kết quả\n",
    "results = pd.DataFrame({\n",
    "    'Compared Topic': available_topics,\n",
    "    f'Similarity with \"{target_topic}\"': similarities\n",
    "}).sort_values(by=f'Similarity with \"{target_topic}\"', ascending=False)\n",
    "\n",
    "print(results)"
   ]
  }
 ],
 "metadata": {
  "kernelspec": {
   "display_name": "Python 3",
   "language": "python",
   "name": "python3"
  },
  "language_info": {
   "codemirror_mode": {
    "name": "ipython",
    "version": 3
   },
   "file_extension": ".py",
   "mimetype": "text/x-python",
   "name": "python",
   "nbconvert_exporter": "python",
   "pygments_lexer": "ipython3",
   "version": "3.10.16"
  }
 },
 "nbformat": 4,
 "nbformat_minor": 5
}
