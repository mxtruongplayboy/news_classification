{
 "cells": [
  {
   "cell_type": "markdown",
   "metadata": {},
   "source": [
    "Chuyển văn bản thành chữ thường."
   ]
  },
  {
   "cell_type": "code",
   "execution_count": null,
   "metadata": {},
   "outputs": [],
   "source": [
    "def to_lowercase(text):\n",
    "    return text.lower()\n"
   ]
  },
  {
   "cell_type": "markdown",
   "metadata": {},
   "source": [
    "\n",
    "Loại bỏ dấu câu và các ký tự đặc biệt, giữ lại chữ cái và số."
   ]
  },
  {
   "cell_type": "code",
   "execution_count": 99,
   "metadata": {},
   "outputs": [],
   "source": [
    "import re\n",
    "\n",
    "def remove_punctuation_and_special_chars(text):\n",
    "    return re.sub(r'[^a-zA-Z0-9\\sáàạảãăắặẳẵâấầậẩẫéèẹẻẽêếềệểễíìịỉĩóòọỏõôốồộổỗơớờợởỡúùụủũưứừựửữýỳỵỷỹđÁÀẠẢÃĂẮẶẲẴÂẤẦẬẨẪÉÈẸẺẼÊẾỀỆỂỄÍÌỊỈĨÓÒỌỎÕÔỐỒỘỔỗƠỚỜỢỞỠÚÙỤỦŨƯỨỪỰỬỮÝỲỴỶỸĐ]', '', text)\n"
   ]
  },
  {
   "cell_type": "markdown",
   "metadata": {},
   "source": [
    "Loại bỏ tất cả các con số trong văn bản."
   ]
  },
  {
   "cell_type": "code",
   "execution_count": 100,
   "metadata": {},
   "outputs": [],
   "source": [
    "def remove_numbers(text):\n",
    "    return re.sub(r'\\d+', '', text)\n"
   ]
  },
  {
   "cell_type": "markdown",
   "metadata": {},
   "source": [
    "Loại bỏ tiêu đề và ngày tháng (có thể điều chỉnh regex tùy theo cấu trúc bài báo)."
   ]
  },
  {
   "cell_type": "code",
   "execution_count": 101,
   "metadata": {},
   "outputs": [],
   "source": [
    "def remove_title_and_date(text):\n",
    "   \n",
    "    text = re.sub(r'^[\\w\\s]+[:\\-—].*', '', text)  # Loại bỏ tiêu đề\n",
    "    text = re.sub(r'\\d{1,2}[\\-\\/]\\d{1,2}[\\-\\/]\\d{4}', '', text)  # Loại bỏ ngày tháng (ví dụ: 10/10/2021)\n",
    "    return text\n"
   ]
  },
  {
   "cell_type": "markdown",
   "metadata": {},
   "source": [
    "Thay thế URL và email bằng từ khóa 'link' và 'email'."
   ]
  },
  {
   "cell_type": "code",
   "execution_count": 102,
   "metadata": {},
   "outputs": [],
   "source": [
    "def replace_links_and_emails(text):\n",
    "    text = re.sub(r'http\\S+|www\\S+|https\\S+', 'link', text)  # URL\n",
    "    text = re.sub(r'\\S+@\\S+', 'email', text)  # Email\n",
    "    return text\n"
   ]
  },
  {
   "cell_type": "markdown",
   "metadata": {},
   "source": [
    "Xử lí stop word"
   ]
  },
  {
   "cell_type": "code",
   "execution_count": 103,
   "metadata": {},
   "outputs": [],
   "source": [
    "# Danh sách stop words tiếng Việt (có thể mở rộng thêm)\n",
    "stop_words = set([\n",
    "    'và', 'là', 'của', 'để', 'theo', 'với', 'trong', 'cho', 'này', 'một', 'các', 'bởi', 'nhưng', 'vì', 'nên', 'đã', 'có', 'không', 'bao', 'làm', 'tại', 'thì', 'nếu', 'hay', 'mình', 'sẽ', 'vừa', 'sau', 'khi', 'được', 'cũng', 'vẫn', 'rất', 'vì', 'còn', 'chúng', 'mình', 'họ', 'ai', 'bạn', 'làm'\n",
    "])\n",
    "\n",
    "# Hàm loại bỏ stop words từ một văn bản\n",
    "def remove_stop_words(text):\n",
    "    words = text.split()\n",
    "    filtered_words = [word for word in words if word not in stop_words]\n",
    "    return ' '.join(filtered_words)"
   ]
  },
  {
   "cell_type": "markdown",
   "metadata": {},
   "source": [
    "Đọc file CSV"
   ]
  },
  {
   "cell_type": "code",
   "execution_count": 104,
   "metadata": {},
   "outputs": [
    {
     "name": "stdout",
     "output_type": "stream",
     "text": [
      "                                               Title  \\\n",
      "0  Rối ren ở cơ quan hạt nhân Mỹ vì nhân viên bị ...   \n",
      "1  Người Mỹ vui buồn lẫn lộn sau cuộc khẩu chiến ...   \n",
      "2  Đặc phái viên 'Tây học' có thể giúp Nga hàn gắ...   \n",
      "3  Bước ngoặt trong cuộc gặp Tổng thống Trump - Z...   \n",
      "4  Hỗn loạn trong nội các ông Trump trước tối hậu...   \n",
      "\n",
      "                                         Description  \\\n",
      "0  DOGE sa thải nhầm nhiều nhân viên quan trọng v...   \n",
      "1  Một số cử tri Mỹ nói họ thấy xấu hổ vì cuộc kh...   \n",
      "2  Từng học tập và làm việc ở Mỹ, đặc phái viên D...   \n",
      "3  Cuộc gặp tại Nhà Trắng khởi đầu tốt đẹp, nhưng...   \n",
      "4  Khi nhận tối hậu thư của Elon Musk về yêu cầu ...   \n",
      "\n",
      "                                             Content  \n",
      "0  Tổng thống Donald Trump đã trao quyền cho Ban ...  \n",
      "1  Cuộc đấu khẩu gây sốc giữa Tổng thống Mỹ Donal...  \n",
      "2  Sau cuộc đàm phán hôm 18/2 tại Arab Saudi giữa...  \n",
      "3  Phó tổng thống Mỹ JD Vance ngày 28/2 có mặt tr...  \n",
      "4  Tại Phòng Đông, Nhà Trắng, tối 22/2, Giám đốc ...  \n"
     ]
    }
   ],
   "source": [
    "import pandas as pd\n",
    "\n",
    "# Đọc file CSV và chỉ lấy 3 cột cụ thể\n",
    "def read_csv(input_file):\n",
    "    # Đọc chỉ 3 cột 'Title', 'Description', 'Content'\n",
    "    df = pd.read_csv(input_file, usecols=['Title', 'Description', 'Content'])\n",
    "    \n",
    "    # In ra dữ liệu đã đọc (hoặc có thể xử lý gì đó)\n",
    "    print(df.head())  # In ra 5 dòng đầu tiên của DataFrame để kiểm tra dữ liệu\n",
    "\n",
    "    return df  # Trả về DataFrame đã đọc\n",
    "\n",
    "# Ví dụ sử dụng\n",
    "input_file = 'articles.csv'  # Thay thế bằng đường dẫn file CSV đầu vào của bạn\n",
    "\n",
    "df = read_csv(input_file)\n"
   ]
  },
  {
   "cell_type": "markdown",
   "metadata": {},
   "source": [
    "Hàm tổng sử dụng các hàm xử lí"
   ]
  },
  {
   "cell_type": "code",
   "execution_count": 105,
   "metadata": {},
   "outputs": [],
   "source": [
    "def preprocess_news_text(text):\n",
    "    text = to_lowercase(text)\n",
    "    text = remove_punctuation_and_special_chars(text)\n",
    "    text = remove_numbers(text)\n",
    "    text = remove_title_and_date(text)\n",
    "    text = replace_links_and_emails(text)\n",
    "    text = remove_stop_words(text)\n",
    "    return text"
   ]
  },
  {
   "cell_type": "markdown",
   "metadata": {},
   "source": [
    "Áp dụng xử lí đối với từng cột"
   ]
  },
  {
   "cell_type": "code",
   "execution_count": 106,
   "metadata": {},
   "outputs": [],
   "source": [
    "def process():    \n",
    "    # Áp dụng các hàm tiền xử lý cho từng cột\n",
    "    df['Title'] = df['Title'].astype(str).apply(preprocess_news_text)\n",
    "    df['Description'] = df['Description'].astype(str).apply(preprocess_news_text)\n",
    "    df['Content'] = df['Content'].astype(str).apply(preprocess_news_text)\n",
    "\n",
    "process()"
   ]
  },
  {
   "cell_type": "markdown",
   "metadata": {},
   "source": [
    "Lưu lại dữ liệu đã được xử lí"
   ]
  },
  {
   "cell_type": "code",
   "execution_count": 107,
   "metadata": {},
   "outputs": [],
   "source": [
    "df.to_csv('output.csv', index=False)"
   ]
  }
 ],
 "metadata": {
  "kernelspec": {
   "display_name": "Python 3",
   "language": "python",
   "name": "python3"
  },
  "language_info": {
   "codemirror_mode": {
    "name": "ipython",
    "version": 3
   },
   "file_extension": ".py",
   "mimetype": "text/x-python",
   "name": "python",
   "nbconvert_exporter": "python",
   "pygments_lexer": "ipython3",
   "version": "3.11.5"
  }
 },
 "nbformat": 4,
 "nbformat_minor": 2
}
